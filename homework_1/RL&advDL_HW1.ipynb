{
 "cells": [
  {
   "cell_type": "code",
   "execution_count": 1613,
   "metadata": {},
   "outputs": [],
   "source": [
    "from collections import defaultdict\n",
    "from itertools import product\n",
    "\n",
    "import gym\n",
    "import numpy as np\n",
    "import matplotlib.pyplot as plt\n",
    "import seaborn as sns\n",
    "\n",
    "sns.set_theme()"
   ]
  },
  {
   "cell_type": "markdown",
   "metadata": {},
   "source": [
    "### Часть первая, с блекджеком и стратегиями"
   ]
  },
  {
   "cell_type": "markdown",
   "metadata": {},
   "source": [
    "##### 1. Рассмотрим очень простую стратегию: говорить stand, если у нас на руках комбинация в 19, 20 или 21 очко, во всех остальных случаях говорить hit. Используйте методы Монте-Карло, чтобы оценить выигрыш от этой стратегии."
   ]
  },
  {
   "cell_type": "markdown",
   "metadata": {},
   "source": [
    "В силу тривиальности нашей стратегии в качестве состояния будем рассматривать лишь сумму карт в нашей руке - единственный параметр, по которому принимается решение о выборе действия."
   ]
  },
  {
   "cell_type": "code",
   "execution_count": 1201,
   "metadata": {},
   "outputs": [],
   "source": [
    "def pi(state):\n",
    "    if state <= 18:\n",
    "        return True  # hit\n",
    "    else:\n",
    "        return False  # stand"
   ]
  },
  {
   "cell_type": "code",
   "execution_count": 1098,
   "metadata": {},
   "outputs": [],
   "source": [
    "def usable_ace(hand):\n",
    "    return 1 in hand and sum(hand) + 10 <= 21\n",
    "\n",
    "def sum_hand(hand):\n",
    "    if usable_ace(hand):\n",
    "        return sum(hand) + 10\n",
    "    return sum(hand)"
   ]
  },
  {
   "cell_type": "code",
   "execution_count": 1202,
   "metadata": {},
   "outputs": [],
   "source": [
    "def run_episode(env, pi):\n",
    "    env.reset()\n",
    "    states, rewards = [sum_hand(env.player)], [0.]\n",
    "    done = False\n",
    "    while not done:\n",
    "        observation, reward, done, info = env.step(pi(states[-1]))\n",
    "        players_sum, dealers_card, ace_is_usable = observation\n",
    "        states.append(players_sum)\n",
    "        rewards.append(reward)\n",
    "    return states, rewards\n",
    "\n",
    "def update_returns(returns, states, rewards, gamma):\n",
    "    G = 0\n",
    "    for t in range(len(states) - 2, -1, -1):\n",
    "        G = gamma*G + rewards[t+1]\n",
    "        returns[states[t]].append(G)"
   ]
  },
  {
   "cell_type": "markdown",
   "metadata": {},
   "source": [
    "Алгоритм для нахождения функции $V_\\pi$, оценивающей нашу стратегию $\\pi$. При этом не будем отдельно описывать все возможное пространство состояний, т.к. за счет встроенной в нашу среду случайности по раздаче карт при большом количестве эпизодов мы действительно посетим все возможные состояния."
   ]
  },
  {
   "cell_type": "code",
   "execution_count": 1101,
   "metadata": {},
   "outputs": [],
   "source": [
    "def monte_carlo_estim(env, pi, gamma, n_of_episodes):\n",
    "    V = {}\n",
    "    returns = defaultdict(list)\n",
    "    for episode in range(n_of_episodes):\n",
    "        states, rewards = run_episode(env, pi)\n",
    "        update_returns(returns, states, rewards, gamma)\n",
    "    for state, rtrns in returns.items():\n",
    "        V[state] = np.mean(rtrns)\n",
    "    return V"
   ]
  },
  {
   "cell_type": "code",
   "execution_count": 1203,
   "metadata": {},
   "outputs": [],
   "source": [
    "def average_payoff(env, pi, n_of_episodes):\n",
    "    total_payoff = 0\n",
    "    for episode in range(n_of_episodes):\n",
    "        episode_payoff = run_episode(env, pi)[-1][-1]\n",
    "        total_payoff += episode_payoff\n",
    "    return total_payoff / n_of_episodes"
   ]
  },
  {
   "cell_type": "code",
   "execution_count": 1204,
   "metadata": {},
   "outputs": [],
   "source": [
    "env = gym.make('Blackjack-v0', natural=True)\n",
    "n_of_episodes = 100000\n",
    "gamma = 1\n",
    "\n",
    "V_pi = monte_carlo_estim(env, pi, gamma, n_of_episodes)\n",
    "avg_payoff_pi = average_payoff(env, pi, n_of_episodes)\n",
    "\n",
    "env.close()"
   ]
  },
  {
   "cell_type": "markdown",
   "metadata": {},
   "source": [
    "Получившаяся функция $V_\\pi$:"
   ]
  },
  {
   "cell_type": "code",
   "execution_count": 1097,
   "metadata": {
    "scrolled": true
   },
   "outputs": [
    {
     "data": {
      "text/plain": [
       "[(4, -0.3600713012477718),\n",
       " (5, -0.40703517587939697),\n",
       " (6, -0.38326954620010933),\n",
       " (7, -0.40682846565199504),\n",
       " (8, -0.43087697929354446),\n",
       " (9, -0.14840989399293286),\n",
       " (10, -0.028595458368376788),\n",
       " (11, 0.04709897610921502),\n",
       " (12, -0.40148339245404707),\n",
       " (13, -0.4408981676179033),\n",
       " (14, -0.46565707313572097),\n",
       " (15, -0.5013723696248856),\n",
       " (16, -0.5298699539420212),\n",
       " (17, -0.581791945428309),\n",
       " (18, -0.580735284779986),\n",
       " (19, 0.2780990696504903),\n",
       " (20, 0.580437643159998),\n",
       " (21, 1.0238924158645641)]"
      ]
     },
     "execution_count": 1097,
     "metadata": {},
     "output_type": "execute_result"
    }
   ],
   "source": [
    "sorted(V_pi.items())"
   ]
  },
  {
   "cell_type": "markdown",
   "metadata": {},
   "source": [
    "Также, пример функции $V_\\pi$, когда в качестве состояния мы в том числе рассматриваем информацию, содержится ли у нас на руках *usable ace*. (Здесь, например, можно заметить, что играем именно в *natural Blackjack*)."
   ]
  },
  {
   "cell_type": "code",
   "execution_count": 519,
   "metadata": {
    "scrolled": true
   },
   "outputs": [
    {
     "data": {
      "text/plain": [
       "[((4, False), -0.28833333333333333),\n",
       " ((5, False), -0.33414634146341465),\n",
       " ((6, False), -0.3941208492106696),\n",
       " ((7, False), -0.408812729498164),\n",
       " ((8, False), -0.4051939924906133),\n",
       " ((9, False), -0.15943466402182),\n",
       " ((10, False), -0.04333470903838217),\n",
       " ((11, False), 0.04587470044505306),\n",
       " ((12, False), -0.44099165016785746),\n",
       " ((12, True), -0.10981697171381032),\n",
       " ((13, False), -0.4711872826626925),\n",
       " ((13, True), -0.09662215239591516),\n",
       " ((14, False), -0.5164817623114375),\n",
       " ((14, True), -0.1613899613899614),\n",
       " ((15, False), -0.5403200745804848),\n",
       " ((15, True), -0.24388631857237278),\n",
       " ((16, False), -0.5813546423135464),\n",
       " ((16, True), -0.24297314178638352),\n",
       " ((17, False), -0.6068036227081953),\n",
       " ((17, True), -0.26914660831509846),\n",
       " ((18, False), -0.6360636924401091),\n",
       " ((18, True), -0.323400097703957),\n",
       " ((19, False), 0.2768748633481525),\n",
       " ((19, True), 0.2548928238583411),\n",
       " ((20, False), 0.5745438362260792),\n",
       " ((20, True), 0.5740498034076016),\n",
       " ((21, False), 0.885419032477856),\n",
       " ((21, True), 1.2384247394498549)]"
      ]
     },
     "execution_count": 519,
     "metadata": {},
     "output_type": "execute_result"
    }
   ],
   "source": [
    "sorted(V_pi.items())"
   ]
  },
  {
   "cell_type": "markdown",
   "metadata": {},
   "source": [
    "Оценка выигрыша стратегии $\\pi$:"
   ]
  },
  {
   "cell_type": "code",
   "execution_count": 1106,
   "metadata": {},
   "outputs": [
    {
     "name": "stdout",
     "output_type": "stream",
     "text": [
      "Таким образом на 100000 раздачах получаем по нашей стратегии средний выигрыш -0.17942\n"
     ]
    }
   ],
   "source": [
    "print(f'Таким образом на {n_of_episodes} раздачах получаем по нашей стратегии средний выигрыш {avg_payoff_pi}')"
   ]
  },
  {
   "cell_type": "markdown",
   "metadata": {},
   "source": [
    "##### 2. Реализуйте метод обучения с подкреплением без модели (можно Q-обучение, но рекомендую попробовать и другие, например Monte Carlo control) для обучения стратегии в блекджеке, используя окружение Blackjack-v0 из OpenAI Gym."
   ]
  },
  {
   "cell_type": "code",
   "execution_count": 1182,
   "metadata": {},
   "outputs": [],
   "source": [
    "'''\n",
    "# Построим пространство состояний явным образом\n",
    "observation_space = list(product(range(4, 21 + 1), range(1, 10 + 1), (False, True)))\n",
    "observation_space = [obs for obs in observation_space if obs[0] > 11 or not obs[2]]\n",
    "\n",
    "def get_random_Q(env, obsrvtn_space):\n",
    "    # Q = np.zeros((len(obsrvtn_space), env.action_space.n))\n",
    "    Q = {state: np.zeros(env.action_space.n) for state in obsrvtn_space}\n",
    "    return Q\n",
    "'''\n",
    "\n",
    "def compute_policy_by_Q(Q):\n",
    "    # return np.argmax(Q, axis=1)\n",
    "    return {state: np.argmax(actions) for state, actions in Q.items()}"
   ]
  },
  {
   "cell_type": "code",
   "execution_count": 1702,
   "metadata": {},
   "outputs": [],
   "source": [
    "'''\n",
    "class DefaultDictWKey(defaultdict):\n",
    "    def __missing__(self, key):\n",
    "        value = self.default_factory(key)\n",
    "        self[key] = value\n",
    "        return value\n",
    "\n",
    "def compute_policy_by_Q_upd(Q):\n",
    "    return DefaultDictWKey(lambda state: np.argmax(Q[state]), {state: np.argmax(actions) for state, actions in Q.items()})\n",
    "'''"
   ]
  },
  {
   "cell_type": "code",
   "execution_count": 1654,
   "metadata": {},
   "outputs": [],
   "source": [
    "def eps_greedy_pi(env, state, Q, eps):\n",
    "    if np.random.rand() > eps:\n",
    "        return np.argmax(Q[state])\n",
    "    else:\n",
    "        return env.action_space.sample()"
   ]
  },
  {
   "cell_type": "code",
   "execution_count": 1711,
   "metadata": {},
   "outputs": [],
   "source": [
    "def run_episode(env, pi, eps=0.):\n",
    "    observation = env.reset()\n",
    "    states, actions, rewards = [observation], [], [0.]\n",
    "    done = False\n",
    "    while not done:\n",
    "        action = pi[observation] if np.random.rand() > eps else env.action_space.sample()\n",
    "        observation, reward, done, info = env.step(action)\n",
    "        states.append(observation)\n",
    "        actions.append(action)\n",
    "        rewards.append(reward)\n",
    "    return states, actions, rewards"
   ]
  },
  {
   "cell_type": "markdown",
   "metadata": {},
   "source": [
    "Реализуем алгоритм **Monte Carlo control**"
   ]
  },
  {
   "cell_type": "code",
   "execution_count": 1780,
   "metadata": {},
   "outputs": [],
   "source": [
    "def run_episode_MC(env, Q, eps=0.):\n",
    "    observation = env.reset()\n",
    "    states, actions, rewards = [observation], [], [0.]\n",
    "    done = False\n",
    "    while not done:\n",
    "        action = eps_greedy_pi(env, observation, Q, eps)\n",
    "        observation, reward, done, info = env.step(action)\n",
    "        states.append(observation)\n",
    "        actions.append(action)\n",
    "        rewards.append(reward)\n",
    "    return states, actions, rewards\n",
    "\n",
    "def update(Q, N, gamma, states, actions, rewards):\n",
    "    G = 0.\n",
    "    for t in range(len(states) - 2, -1, -1):\n",
    "        G = gamma*G + rewards[t+1]\n",
    "        N[states[t]][actions[t]] += 1\n",
    "        Q[states[t]][actions[t]] += (G-Q[states[t]][actions[t]]) / N[states[t]][actions[t]]"
   ]
  },
  {
   "cell_type": "code",
   "execution_count": 1781,
   "metadata": {},
   "outputs": [],
   "source": [
    "def monte_carlo_control(env, gamma, n_of_episodes, eps, rec_history=False, estim_epsds=100000, rec_freq=10):\n",
    "    # Q = get_random_Q(env, observation_space)\n",
    "    # pi = compute_policy_by_Q(Q)\n",
    "    Q = defaultdict(lambda: np.zeros(env.action_space.n))\n",
    "    # pi = defaultdict(lambda: 0)  # argmax([0,...,0]) == 0\n",
    "    # pi = compute_policy_by_Q_upd(Q)\n",
    "    N = defaultdict(lambda: np.zeros(env.action_space.n))\n",
    "    for episode in range(n_of_episodes):\n",
    "        states, actions, rewards = run_episode_MC(env, Q, eps)\n",
    "        update(Q, N, gamma, states, actions, rewards)\n",
    "        # pi = compute_policy_by_Q_upd(Q)\n",
    "        if rec_history and (episode+1) % (n_of_episodes//rec_freq) == 0:\n",
    "            pi = compute_policy_by_Q(Q)\n",
    "            cur_avg_payoff = average_payoff(env, pi, estim_epsds)\n",
    "            learning_history_MC.append(cur_avg_payoff)\n",
    "    return Q"
   ]
  },
  {
   "cell_type": "code",
   "execution_count": 1782,
   "metadata": {},
   "outputs": [
    {
     "name": "stdout",
     "output_type": "stream",
     "text": [
      "Wall time: 2min 41s\n"
     ]
    }
   ],
   "source": [
    "%%time\n",
    "env = gym.make('Blackjack-v0', natural=True)\n",
    "n_of_episodes = 1000000\n",
    "gamma = 1\n",
    "eps = 0.1\n",
    "estim_epsds = 100000\n",
    "rec_freq = 10\n",
    "\n",
    "learning_history_MC = []\n",
    "Q_opt = monte_carlo_control(env, gamma, n_of_episodes, eps, rec_history=True, estim_epsds=estim_epsds, rec_freq=rec_freq)\n",
    "pi_opt = compute_policy_by_Q(Q_opt)\n",
    "avg_payoff_opt = average_payoff(env, pi_opt, estim_epsds)\n",
    "\n",
    "env.close()"
   ]
  },
  {
   "cell_type": "markdown",
   "metadata": {},
   "source": [
    "Оценка выигрыша стратегии $\\pi^*$:"
   ]
  },
  {
   "cell_type": "code",
   "execution_count": 1783,
   "metadata": {
    "scrolled": true
   },
   "outputs": [
    {
     "name": "stdout",
     "output_type": "stream",
     "text": [
      "Таким образом на 100000 раздачах получаем по нашей стратегии средний выигрыш -0.03065\n"
     ]
    }
   ],
   "source": [
    "print(f'Таким образом на {estim_epsds} раздачах получаем по нашей стратегии средний выигрыш {avg_payoff_opt}')"
   ]
  },
  {
   "cell_type": "markdown",
   "metadata": {},
   "source": [
    "Реализуем алгоритм **Q-learning**"
   ]
  },
  {
   "cell_type": "code",
   "execution_count": 1698,
   "metadata": {},
   "outputs": [],
   "source": [
    "def Q_learning_episode(env, Q, alpha=0.05, eps=0.0, gamma=0.9):\n",
    "    observation = env.reset()\n",
    "    action = eps_greedy_pi(env, observation, Q, eps)\n",
    "    done = False\n",
    "    while not done:\n",
    "        next_observation, reward, done, info = env.step(action)\n",
    "        if not done:\n",
    "            next_action = eps_greedy_pi(env, next_observation, Q, eps)\n",
    "            Q[observation][action] += alpha * (reward + gamma*np.max(Q[next_observation]) - Q[observation][action])\n",
    "            observation, action = next_observation, next_action\n",
    "        else:\n",
    "            Q[observation][action] += alpha * (reward-Q[observation][action])"
   ]
  },
  {
   "cell_type": "code",
   "execution_count": 1656,
   "metadata": {},
   "outputs": [],
   "source": [
    "def Q_learning(env, gamma, n_of_episodes, eps, alpha, rec_history=False, estim_epsds=100000, rec_freq=10):\n",
    "    Q = defaultdict(lambda: np.zeros(env.action_space.n))\n",
    "    # pi = compute_policy_by_Q(Q)\n",
    "    for episode in range(n_of_episodes):\n",
    "        Q_learning_episode(env, Q, alpha, eps, gamma)\n",
    "        # pi = compute_policy_by_Q(Q)\n",
    "        if rec_history and (episode+1) % (n_of_episodes//rec_freq) == 0:\n",
    "            pi = compute_policy_by_Q_upd(Q)\n",
    "            cur_avg_payoff = average_payoff(env, pi, estim_epsds)\n",
    "            learning_history_Q.append(cur_avg_payoff)\n",
    "    return Q"
   ]
  },
  {
   "cell_type": "code",
   "execution_count": 1668,
   "metadata": {},
   "outputs": [
    {
     "name": "stdout",
     "output_type": "stream",
     "text": [
      "Wall time: 2min 20s\n"
     ]
    }
   ],
   "source": [
    "%%time\n",
    "env = gym.make('Blackjack-v0', natural=True)\n",
    "n_of_episodes = 1000000\n",
    "gamma = 1\n",
    "eps = 0.1\n",
    "alpha = 0.1 # 0.05\n",
    "estim_epsds = 100000\n",
    "rec_freq = 10\n",
    "\n",
    "learning_history_Q = []\n",
    "Q_opt = Q_learning(env, gamma, n_of_episodes, eps, alpha, rec_history=True, estim_epsds=estim_epsds, rec_freq=rec_freq)\n",
    "pi_opt = compute_policy_by_Q(Q_opt)\n",
    "avg_payoff_opt = average_payoff(env, pi_opt, estim_epsds)\n",
    "\n",
    "env.close()"
   ]
  },
  {
   "cell_type": "markdown",
   "metadata": {},
   "source": [
    "Оценка выигрыша стратегии $\\pi^*$:"
   ]
  },
  {
   "cell_type": "code",
   "execution_count": 1670,
   "metadata": {
    "scrolled": true
   },
   "outputs": [
    {
     "name": "stdout",
     "output_type": "stream",
     "text": [
      "Таким образом на 100000 раздачах получаем по нашей стратегии средний выигрыш -0.048635\n"
     ]
    }
   ],
   "source": [
    "print(f'Таким образом на {estim_epsds} раздачах получаем по нашей стратегии средний выигрыш {avg_payoff_opt}')"
   ]
  },
  {
   "cell_type": "markdown",
   "metadata": {},
   "source": [
    "##### 3. Сколько выигрывает казино у вашей стратегии? Нарисуйте графики среднего дохода вашего метода (усреднённого по крайней мере по 100000 раздач, а лучше больше) по ходу обучения. Попробуйте подобрать оптимальные гиперпараметры."
   ]
  },
  {
   "cell_type": "markdown",
   "metadata": {},
   "source": [
    "Рассмотрим результаты реализации стратегии, обученной **методом Монте-Карло**"
   ]
  },
  {
   "cell_type": "code",
   "execution_count": 1787,
   "metadata": {},
   "outputs": [
    {
     "name": "stdout",
     "output_type": "stream",
     "text": [
      "Средний выигрыш стратегии равен -0.03065\n"
     ]
    }
   ],
   "source": [
    "print(f'Средний выигрыш стратегии равен {avg_payoff_opt}')"
   ]
  },
  {
   "cell_type": "markdown",
   "metadata": {},
   "source": [
    "Нарисуем график обучения данной стратегии по среднему доходу"
   ]
  },
  {
   "cell_type": "code",
   "execution_count": 1788,
   "metadata": {},
   "outputs": [
    {
     "data": {
      "image/png": "[encoded data removed]",
      "text/plain": [
       "<Figure size 864x432 with 1 Axes>"
      ]
     },
     "metadata": {},
     "output_type": "display_data"
    }
   ],
   "source": [
    "plt.figure(figsize=(12, 6))\n",
    "plt.xlabel('Количество эпизодов')\n",
    "plt.ylabel('Средний выигрыш')\n",
    "plt.plot(range(n_of_episodes // rec_freq, n_of_episodes + 1, n_of_episodes // rec_freq), learning_history_MC)\n",
    "plt.show()"
   ]
  },
  {
   "cell_type": "markdown",
   "metadata": {},
   "source": [
    "Рассмотрим результаты реализации стратегии, обученной **методом Q-обучения**"
   ]
  },
  {
   "cell_type": "code",
   "execution_count": 1671,
   "metadata": {},
   "outputs": [
    {
     "name": "stdout",
     "output_type": "stream",
     "text": [
      "Средний выигрыш стратегии равен -0.048635\n"
     ]
    }
   ],
   "source": [
    "print(f'Средний выигрыш стратегии равен {avg_payoff_opt}')"
   ]
  },
  {
   "cell_type": "markdown",
   "metadata": {},
   "source": [
    "Нарисуем график обучения данной стратегии по среднему доходу"
   ]
  },
  {
   "cell_type": "code",
   "execution_count": 1672,
   "metadata": {},
   "outputs": [
    {
     "data": {
      "image/png": "[encoded data removed]",
      "text/plain": [
       "<Figure size 864x432 with 1 Axes>"
      ]
     },
     "metadata": {},
     "output_type": "display_data"
    }
   ],
   "source": [
    "plt.figure(figsize=(12, 6))\n",
    "plt.xlabel('Количество эпизодов')\n",
    "plt.ylabel('Средний выигрыш')\n",
    "plt.plot(range(n_of_episodes // rec_freq, n_of_episodes + 1, n_of_episodes // rec_freq), learning_history_Q)\n",
    "plt.show()"
   ]
  },
  {
   "cell_type": "markdown",
   "metadata": {},
   "source": [
    "### Часть вторая, удвоенная"
   ]
  },
  {
   "cell_type": "markdown",
   "metadata": {},
   "source": [
    "##### 4. Реализуйте новый вариант блекджека на основе окружения Blackjack-v0 из OpenAI Gym, в котором разрешено удвоение ставки."
   ]
  },
  {
   "cell_type": "code",
   "execution_count": 1800,
   "metadata": {},
   "outputs": [],
   "source": [
    "import gym\n",
    "from gym import spaces\n",
    "from gym.utils import seeding\n",
    "\n",
    "def cmp(a, b):\n",
    "    return float(a > b) - float(a < b)\n",
    "\n",
    "# 1 = Ace, 2-10 = Number cards, Jack/Queen/King = 10\n",
    "deck = [1, 2, 3, 4, 5, 6, 7, 8, 9, 10, 10, 10, 10]\n",
    "\n",
    "\n",
    "def draw_card(np_random):\n",
    "    return int(np_random.choice(deck))\n",
    "\n",
    "\n",
    "def draw_hand(np_random):\n",
    "    return [draw_card(np_random), draw_card(np_random)]\n",
    "\n",
    "\n",
    "def usable_ace(hand):  # Does this hand have a usable ace?\n",
    "    return 1 in hand and sum(hand) + 10 <= 21\n",
    "\n",
    "\n",
    "def sum_hand(hand):  # Return current hand total\n",
    "    if usable_ace(hand):\n",
    "        return sum(hand) + 10\n",
    "    return sum(hand)\n",
    "\n",
    "\n",
    "def is_bust(hand):  # Is this hand a bust?\n",
    "    return sum_hand(hand) > 21\n",
    "\n",
    "\n",
    "def score(hand):  # What is the score of this hand (0 if bust)\n",
    "    return 0 if is_bust(hand) else sum_hand(hand)\n",
    "\n",
    "\n",
    "def is_natural(hand):  # Is this hand a natural blackjack?\n",
    "    return sorted(hand) == [1, 10]\n",
    "\n",
    "\n",
    "class BlackjackDoubleEnv(gym.Env):\n",
    "    def __init__(self, natural=False):\n",
    "        self.action_space = spaces.Discrete(3)\n",
    "        self.observation_space = spaces.Tuple((\n",
    "            spaces.Discrete(32),\n",
    "            spaces.Discrete(11),\n",
    "            spaces.Discrete(2)))\n",
    "        self.seed()\n",
    "\n",
    "        # Flag to payout 1.5 on a \"natural\" blackjack win, like casino rules\n",
    "        # Ref: http://www.bicyclecards.com/how-to-play/blackjack/\n",
    "        self.natural = natural\n",
    "        # Start the first game\n",
    "        self.reset()\n",
    "\n",
    "    def seed(self, seed=None):\n",
    "        self.np_random, seed = seeding.np_random(seed)\n",
    "        return [seed]\n",
    "\n",
    "    def step(self, action):\n",
    "        assert self.action_space.contains(action)\n",
    "        if action == 1:  # hit: add a card to players hand and return\n",
    "            self.player.append(draw_card(self.np_random))\n",
    "            if is_bust(self.player):\n",
    "                done = True\n",
    "                reward = -1.\n",
    "            else:\n",
    "                done = False\n",
    "                reward = 0.\n",
    "        else:  # stick or double\n",
    "            done = True\n",
    "            if action == 2:  # double\n",
    "                self.player.append(draw_card(self.np_random))\n",
    "                if is_bust(self.player):\n",
    "                    reward = -2.\n",
    "                    return self._get_obs(), reward, done, {}\n",
    "            while sum_hand(self.dealer) < 17:\n",
    "                self.dealer.append(draw_card(self.np_random))\n",
    "            reward = cmp(score(self.player), score(self.dealer))\n",
    "            if action == 2:\n",
    "                reward *= 2\n",
    "            if self.natural and is_natural(self.player) and reward == 1.:\n",
    "                reward = 1.5\n",
    "        return self._get_obs(), reward, done, {}\n",
    "\n",
    "    def _get_obs(self):\n",
    "        return (sum_hand(self.player), self.dealer[0], usable_ace(self.player))\n",
    "\n",
    "    def reset(self):\n",
    "        self.dealer = draw_hand(self.np_random)\n",
    "        self.player = draw_hand(self.np_random)\n",
    "        return self._get_obs()"
   ]
  },
  {
   "cell_type": "markdown",
   "metadata": {},
   "source": [
    "##### 5. Реализуйте метод обучения с подкреплением без модели для этого варианта, постройте графики, аналогичные п.2."
   ]
  },
  {
   "cell_type": "markdown",
   "metadata": {},
   "source": [
    "Рассмотрим результаты реализации стратегии, обученной **методом Монте-Карло**"
   ]
  },
  {
   "cell_type": "code",
   "execution_count": 1801,
   "metadata": {},
   "outputs": [],
   "source": [
    "env_double = BlackjackDoubleEnv(natural=True)\n",
    "n_of_episodes = 1000000\n",
    "gamma = 1\n",
    "eps = 0.1\n",
    "estim_epsds = 100000\n",
    "rec_freq = 10\n",
    "\n",
    "learning_history_MC = []\n",
    "Q_opt = monte_carlo_control(env_double, gamma, n_of_episodes, eps, rec_history=True, estim_epsds=estim_epsds, rec_freq=rec_freq)\n",
    "pi_opt = compute_policy_by_Q(Q_opt)\n",
    "avg_payoff_opt = average_payoff(env_double, pi_opt, estim_epsds)\n",
    "\n",
    "env_double.close()"
   ]
  },
  {
   "cell_type": "markdown",
   "metadata": {},
   "source": [
    "Оценка выигрыша стратегии $\\pi^*$:"
   ]
  },
  {
   "cell_type": "code",
   "execution_count": 1803,
   "metadata": {},
   "outputs": [
    {
     "name": "stdout",
     "output_type": "stream",
     "text": [
      "Таким образом на 100000 раздачах получаем по нашей стратегии средний выигрыш -0.01419\n"
     ]
    }
   ],
   "source": [
    "print(f'Таким образом на {estim_epsds} раздачах получаем по нашей стратегии средний выигрыш {avg_payoff_opt}')"
   ]
  },
  {
   "cell_type": "markdown",
   "metadata": {},
   "source": [
    "Нарисуем график обучения данной стратегии по среднему доходу"
   ]
  },
  {
   "cell_type": "code",
   "execution_count": 1804,
   "metadata": {},
   "outputs": [
    {
     "data": {
      "image/png": "[encoded data removed]",
      "text/plain": [
       "<Figure size 864x432 with 1 Axes>"
      ]
     },
     "metadata": {},
     "output_type": "display_data"
    }
   ],
   "source": [
    "plt.figure(figsize=(12, 6))\n",
    "plt.xlabel('Количество эпизодов')\n",
    "plt.ylabel('Средний выигрыш')\n",
    "plt.plot(range(n_of_episodes // rec_freq, n_of_episodes + 1, n_of_episodes // rec_freq), learning_history_MC)\n",
    "plt.show()"
   ]
  },
  {
   "cell_type": "markdown",
   "metadata": {},
   "source": [
    "Рассмотрим результаты реализации стратегии, обученной **методом Q-обучения**"
   ]
  },
  {
   "cell_type": "code",
   "execution_count": 1674,
   "metadata": {},
   "outputs": [
    {
     "name": "stdout",
     "output_type": "stream",
     "text": [
      "Wall time: 2min 26s\n"
     ]
    }
   ],
   "source": [
    "%%time\n",
    "env_double = BlackjackDoubleEnv(natural=True)\n",
    "n_of_episodes = 1000000\n",
    "gamma = 1\n",
    "eps = 0.1\n",
    "alpha = 0.05\n",
    "estim_epsds = 100000\n",
    "rec_freq = 10\n",
    "\n",
    "learning_history_Q = []\n",
    "Q_opt = Q_learning(env_double, gamma, n_of_episodes, eps, alpha, rec_history=True, estim_epsds=estim_epsds, rec_freq=rec_freq)\n",
    "pi_opt = compute_policy_by_Q(Q_opt)\n",
    "avg_payoff_opt = average_payoff(env_double, pi_opt, estim_epsds)\n",
    "\n",
    "env_double.close()"
   ]
  },
  {
   "cell_type": "markdown",
   "metadata": {},
   "source": [
    "Оценка выигрыша стратегии $\\pi^*$:"
   ]
  },
  {
   "cell_type": "code",
   "execution_count": 1682,
   "metadata": {
    "scrolled": true
   },
   "outputs": [
    {
     "name": "stdout",
     "output_type": "stream",
     "text": [
      "Таким образом на 100000 раздачах получаем по нашей стратегии средний выигрыш -0.03398\n"
     ]
    }
   ],
   "source": [
    "print(f'Таким образом на {estim_epsds} раздачах получаем по нашей стратегии средний выигрыш {avg_payoff_opt}')"
   ]
  },
  {
   "cell_type": "markdown",
   "metadata": {},
   "source": [
    "Нарисуем график обучения данной стратегии по среднему доходу"
   ]
  },
  {
   "cell_type": "code",
   "execution_count": 1677,
   "metadata": {},
   "outputs": [
    {
     "data": {
      "image/png": "[encoded data removed]",
      "text/plain": [
       "<Figure size 864x432 with 1 Axes>"
      ]
     },
     "metadata": {},
     "output_type": "display_data"
    }
   ],
   "source": [
    "plt.figure(figsize=(12, 6))\n",
    "plt.xlabel('Количество эпизодов')\n",
    "plt.ylabel('Средний выигрыш')\n",
    "plt.plot(range(n_of_episodes // rec_freq, n_of_episodes + 1, n_of_episodes // rec_freq), learning_history_Q)\n",
    "plt.show()"
   ]
  },
  {
   "cell_type": "markdown",
   "metadata": {},
   "source": [
    "### Часть третья, в главной роли — Дастин Хоффман"
   ]
  },
  {
   "cell_type": "markdown",
   "metadata": {},
   "source": [
    "##### 6. Реализуйте вариант окружения Blackjack-v0 из предыдущей части (с удвоением), в котором игрок имеет возможность “считать карты” в колоде. Это можно сделать разными способами; возможно, вам поможет статья википедии о блекджеке (а возможно, и нет)."
   ]
  },
  {
   "cell_type": "markdown",
   "metadata": {},
   "source": [
    "Реализуем систему подсчета \"Половинки\" (*Wong Halves system*)"
   ]
  },
  {
   "cell_type": "code",
   "execution_count": 1794,
   "metadata": {},
   "outputs": [],
   "source": [
    "import gym\n",
    "from gym import spaces\n",
    "from gym.utils import seeding\n",
    "\n",
    "\n",
    "MIN_CARDS_NUMBER = 15\n",
    "\n",
    "# 1 = Ace, 2-10 = Number cards, Jack/Queen/King = 10\n",
    "cards_values = [1, 2, 3, 4, 5, 6, 7, 8, 9, 10, 10, 10, 10]\n",
    "\n",
    "cards_ranks = {\n",
    "    2: 0.5, \n",
    "    3: 1., \n",
    "    4: 1., \n",
    "    5: 1.5, \n",
    "    6: 1., \n",
    "    7: 0.5, \n",
    "    8: 0., \n",
    "    9: -0.5, \n",
    "    10: -1., \n",
    "    1: -1.}  # halves strategy\n",
    "\n",
    "MAX_COUNT = sum(filter(lambda x: x > 0, map(cards_ranks.get, cards_values))) * 4\n",
    "\n",
    "MIN_COUNT = sum(filter(lambda x: x < 0, map(cards_ranks.get, cards_values))) * 4\n",
    "\n",
    "\n",
    "def cmp(a, b):\n",
    "    return float(a > b) - float(a < b)\n",
    "\n",
    "\n",
    "def usable_ace(hand):  # Does this hand have a usable ace?\n",
    "    return 1 in hand and sum(hand) + 10 <= 21\n",
    "\n",
    "\n",
    "def sum_hand(hand):  # Return current hand total\n",
    "    if usable_ace(hand):\n",
    "        return sum(hand) + 10\n",
    "    return sum(hand)\n",
    "\n",
    "\n",
    "def is_bust(hand):  # Is this hand a bust?\n",
    "    return sum_hand(hand) > 21\n",
    "\n",
    "\n",
    "def score(hand):  # What is the score of this hand (0 if bust)\n",
    "    return 0 if is_bust(hand) else sum_hand(hand)\n",
    "\n",
    "\n",
    "def is_natural(hand):  # Is this hand a natural blackjack?\n",
    "    return sorted(hand) == [1, 10]\n",
    "\n",
    "\n",
    "class BlackjackCountEnv(gym.Env):\n",
    "    def __init__(self, natural=False):\n",
    "        self.action_space = spaces.Discrete(3)\n",
    "        self.observation_space = spaces.Tuple((\n",
    "            spaces.Discrete(32),\n",
    "            spaces.Discrete(11),\n",
    "            spaces.Discrete(2),\n",
    "            spaces.Discrete(2*(MAX_COUNT-MIN_COUNT) + 1)))\n",
    "        self.seed()\n",
    "        \n",
    "        self.deck = cards_values * 4\n",
    "        self.card_count = 0.\n",
    "\n",
    "        # Flag to payout 1.5 on a \"natural\" blackjack win, like casino rules\n",
    "        # Ref: http://www.bicyclecards.com/how-to-play/blackjack/\n",
    "        self.natural = natural\n",
    "        # Start the first game\n",
    "        # self.reset()\n",
    "\n",
    "    def seed(self, seed=None):\n",
    "        self.np_random, seed = seeding.np_random(seed)\n",
    "        return [seed]\n",
    "    \n",
    "    def draw_card(self, np_random):\n",
    "        card = int(np_random.choice(self.deck))\n",
    "        self.deck.remove(card)\n",
    "        self.card_count += cards_ranks[card]\n",
    "        return card\n",
    "\n",
    "    def step(self, action):\n",
    "        assert self.action_space.contains(action)\n",
    "        if action == 1:  # hit: add a card to players hand and return\n",
    "            self.player.append(self.draw_card(self.np_random))\n",
    "            if is_bust(self.player):\n",
    "                done = True\n",
    "                reward = -1.\n",
    "            else:\n",
    "                done = False\n",
    "                reward = 0.\n",
    "        else:  # stick or double\n",
    "            done = True\n",
    "            if action == 2:  # double\n",
    "                self.player.append(self.draw_card(self.np_random))\n",
    "                if is_bust(self.player):\n",
    "                    reward = -2.\n",
    "                    return self._get_obs(), reward, done, {}\n",
    "            while sum_hand(self.dealer) < 17:\n",
    "                self.dealer.append(self.draw_card(self.np_random))\n",
    "            reward = cmp(score(self.player), score(self.dealer))\n",
    "            if action == 2:\n",
    "                reward *= 2\n",
    "            if self.natural and is_natural(self.player) and reward == 1.:\n",
    "                reward = 1.5\n",
    "        return self._get_obs(), reward, done, {}\n",
    "\n",
    "    def _get_obs(self):\n",
    "        return (sum_hand(self.player), self.dealer[0], usable_ace(self.player), self.card_count)\n",
    "\n",
    "    def reset(self):\n",
    "        if len(self.deck) < MIN_CARDS_NUMBER:\n",
    "            self.deck = cards_values * 4\n",
    "            self.card_count = 0.\n",
    "        self.dealer = [self.draw_card(self.np_random)]\n",
    "        self.player = [self.draw_card(self.np_random), self.draw_card(self.np_random)]\n",
    "        return self._get_obs()"
   ]
  },
  {
   "cell_type": "markdown",
   "metadata": {},
   "source": [
    "##### 7. Реализуйте метод обучения с подкреплением без модели для этого варианта, постройте графики, аналогичные п.2"
   ]
  },
  {
   "cell_type": "markdown",
   "metadata": {},
   "source": [
    "Здесь у нас уже на 2 порядка больше состояний, так что обучать, конечно, нужно намного дольше."
   ]
  },
  {
   "cell_type": "markdown",
   "metadata": {},
   "source": [
    "Рассмотрим результаты реализации стратегии, обученной **методом Монте-Карло**"
   ]
  },
  {
   "cell_type": "code",
   "execution_count": 1810,
   "metadata": {},
   "outputs": [
    {
     "name": "stdout",
     "output_type": "stream",
     "text": [
      "Wall time: 11min 36s\n"
     ]
    }
   ],
   "source": [
    "%%time\n",
    "env_count = BlackjackCountEnv(natural=True)\n",
    "n_of_episodes = 5000000\n",
    "gamma = 1\n",
    "eps = 0.1\n",
    "estim_epsds = 100000\n",
    "rec_freq = 10\n",
    "\n",
    "learning_history_MC = []\n",
    "Q_opt = monte_carlo_control(env_count, gamma, n_of_episodes, eps, rec_history=True, estim_epsds=estim_epsds, rec_freq=rec_freq)\n",
    "pi_opt = compute_policy_by_Q(Q_opt)\n",
    "avg_payoff_opt = average_payoff(env_count, pi_opt, estim_epsds)\n",
    "\n",
    "env_count.close()"
   ]
  },
  {
   "cell_type": "markdown",
   "metadata": {},
   "source": [
    "Оценка выигрыша стратегии $\\pi^*$:"
   ]
  },
  {
   "cell_type": "code",
   "execution_count": 1821,
   "metadata": {},
   "outputs": [
    {
     "name": "stdout",
     "output_type": "stream",
     "text": [
      "Таким образом на 100000 раздачах получаем по нашей стратегии средний выигрыш -0.017455\n"
     ]
    }
   ],
   "source": [
    "print(f'Таким образом на {estim_epsds} раздачах получаем по нашей стратегии средний выигрыш {avg_payoff_opt}')"
   ]
  },
  {
   "cell_type": "markdown",
   "metadata": {},
   "source": [
    "Нарисуем график обучения данной стратегии по среднему доходу"
   ]
  },
  {
   "cell_type": "code",
   "execution_count": 1822,
   "metadata": {},
   "outputs": [
    {
     "data": {
      "image/png": "[encoded data removed]",
      "text/plain": [
       "<Figure size 864x432 with 1 Axes>"
      ]
     },
     "metadata": {},
     "output_type": "display_data"
    }
   ],
   "source": [
    "plt.figure(figsize=(12, 6))\n",
    "plt.xlabel('Количество эпизодов')\n",
    "plt.ylabel('Средний выигрыш')\n",
    "plt.plot(range(n_of_episodes // rec_freq, n_of_episodes + 1, n_of_episodes // rec_freq), learning_history_MC)\n",
    "plt.show()"
   ]
  },
  {
   "cell_type": "markdown",
   "metadata": {},
   "source": [
    "Видим, что стоит обучить на еще большем числе эпизодов."
   ]
  },
  {
   "cell_type": "markdown",
   "metadata": {},
   "source": [
    "Рассмотрим результаты реализации стратегии, обученной **методом Q-обучения**."
   ]
  },
  {
   "cell_type": "code",
   "execution_count": 1684,
   "metadata": {},
   "outputs": [
    {
     "name": "stdout",
     "output_type": "stream",
     "text": [
      "Wall time: 8min 47s\n"
     ]
    }
   ],
   "source": [
    "%%time\n",
    "env_count = BlackjackCountEnv(natural=True)\n",
    "n_of_episodes = 5000000\n",
    "gamma = 0.2\n",
    "eps = 0.1\n",
    "alpha = 0.05\n",
    "estim_epsds = 100000\n",
    "rec_freq = 10\n",
    "\n",
    "learning_history_Q = []\n",
    "Q_opt = Q_learning(env_count, gamma, n_of_episodes, eps, alpha, rec_history=True, estim_epsds=estim_epsds, rec_freq=rec_freq)\n",
    "pi_opt = compute_policy_by_Q(Q_opt)\n",
    "avg_payoff_opt = average_payoff(env_count, pi_opt, estim_epsds)\n",
    "\n",
    "env_count.close()"
   ]
  },
  {
   "cell_type": "markdown",
   "metadata": {},
   "source": [
    "Оценка выигрыша стратегии $\\pi^*$:"
   ]
  },
  {
   "cell_type": "code",
   "execution_count": 1686,
   "metadata": {},
   "outputs": [
    {
     "name": "stdout",
     "output_type": "stream",
     "text": [
      "Таким образом на 100000 раздачах получаем по нашей стратегии средний выигрыш -0.02133\n"
     ]
    }
   ],
   "source": [
    "print(f'Таким образом на {estim_epsds} раздачах получаем по нашей стратегии средний выигрыш {avg_payoff_opt}')"
   ]
  },
  {
   "cell_type": "markdown",
   "metadata": {},
   "source": [
    "Нарисуем график обучения данной стратегии по среднему доходу"
   ]
  },
  {
   "cell_type": "code",
   "execution_count": 1687,
   "metadata": {},
   "outputs": [
    {
     "data": {
      "image/png": "[encoded data removed]",
      "text/plain": [
       "<Figure size 864x432 with 1 Axes>"
      ]
     },
     "metadata": {},
     "output_type": "display_data"
    }
   ],
   "source": [
    "plt.figure(figsize=(12, 6))\n",
    "plt.xlabel('Количество эпизодов')\n",
    "plt.ylabel('Средний выигрыш')\n",
    "plt.plot(range(n_of_episodes // rec_freq, n_of_episodes + 1, n_of_episodes // rec_freq), learning_history_Q)\n",
    "plt.show()"
   ]
  }
 ],
 "metadata": {
  "kernelspec": {
   "display_name": "RL",
   "language": "python",
   "name": "reinforcement"
  },
  "language_info": {
   "codemirror_mode": {
    "name": "ipython",
    "version": 3
   },
   "file_extension": ".py",
   "mimetype": "text/x-python",
   "name": "python",
   "nbconvert_exporter": "python",
   "pygments_lexer": "ipython3",
   "version": "3.8.5"
  }
 },
 "nbformat": 4,
 "nbformat_minor": 4
}
